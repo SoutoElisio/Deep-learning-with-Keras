{
 "cells": [
  {
   "cell_type": "code",
   "execution_count": 1,
   "id": "bea37302",
   "metadata": {},
   "outputs": [],
   "source": [
    "import pandas as pd\n",
    "import numpy as np"
   ]
  },
  {
   "cell_type": "code",
   "execution_count": 2,
   "id": "acdf1bee",
   "metadata": {},
   "outputs": [
    {
     "data": {
      "text/html": [
       "<div>\n",
       "<style scoped>\n",
       "    .dataframe tbody tr th:only-of-type {\n",
       "        vertical-align: middle;\n",
       "    }\n",
       "\n",
       "    .dataframe tbody tr th {\n",
       "        vertical-align: top;\n",
       "    }\n",
       "\n",
       "    .dataframe thead th {\n",
       "        text-align: right;\n",
       "    }\n",
       "</style>\n",
       "<table border=\"1\" class=\"dataframe\">\n",
       "  <thead>\n",
       "    <tr style=\"text-align: right;\">\n",
       "      <th></th>\n",
       "      <th>Cement</th>\n",
       "      <th>Blast Furnace Slag</th>\n",
       "      <th>Fly Ash</th>\n",
       "      <th>Water</th>\n",
       "      <th>Superplasticizer</th>\n",
       "      <th>Coarse Aggregate</th>\n",
       "      <th>Fine Aggregate</th>\n",
       "      <th>Age</th>\n",
       "      <th>Strength</th>\n",
       "    </tr>\n",
       "  </thead>\n",
       "  <tbody>\n",
       "    <tr>\n",
       "      <th>0</th>\n",
       "      <td>540.0</td>\n",
       "      <td>0.0</td>\n",
       "      <td>0.0</td>\n",
       "      <td>162.0</td>\n",
       "      <td>2.5</td>\n",
       "      <td>1040.0</td>\n",
       "      <td>676.0</td>\n",
       "      <td>28</td>\n",
       "      <td>79.99</td>\n",
       "    </tr>\n",
       "    <tr>\n",
       "      <th>1</th>\n",
       "      <td>540.0</td>\n",
       "      <td>0.0</td>\n",
       "      <td>0.0</td>\n",
       "      <td>162.0</td>\n",
       "      <td>2.5</td>\n",
       "      <td>1055.0</td>\n",
       "      <td>676.0</td>\n",
       "      <td>28</td>\n",
       "      <td>61.89</td>\n",
       "    </tr>\n",
       "    <tr>\n",
       "      <th>2</th>\n",
       "      <td>332.5</td>\n",
       "      <td>142.5</td>\n",
       "      <td>0.0</td>\n",
       "      <td>228.0</td>\n",
       "      <td>0.0</td>\n",
       "      <td>932.0</td>\n",
       "      <td>594.0</td>\n",
       "      <td>270</td>\n",
       "      <td>40.27</td>\n",
       "    </tr>\n",
       "    <tr>\n",
       "      <th>3</th>\n",
       "      <td>332.5</td>\n",
       "      <td>142.5</td>\n",
       "      <td>0.0</td>\n",
       "      <td>228.0</td>\n",
       "      <td>0.0</td>\n",
       "      <td>932.0</td>\n",
       "      <td>594.0</td>\n",
       "      <td>365</td>\n",
       "      <td>41.05</td>\n",
       "    </tr>\n",
       "    <tr>\n",
       "      <th>4</th>\n",
       "      <td>198.6</td>\n",
       "      <td>132.4</td>\n",
       "      <td>0.0</td>\n",
       "      <td>192.0</td>\n",
       "      <td>0.0</td>\n",
       "      <td>978.4</td>\n",
       "      <td>825.5</td>\n",
       "      <td>360</td>\n",
       "      <td>44.30</td>\n",
       "    </tr>\n",
       "  </tbody>\n",
       "</table>\n",
       "</div>"
      ],
      "text/plain": [
       "   Cement  Blast Furnace Slag  Fly Ash  Water  Superplasticizer  \\\n",
       "0   540.0                 0.0      0.0  162.0               2.5   \n",
       "1   540.0                 0.0      0.0  162.0               2.5   \n",
       "2   332.5               142.5      0.0  228.0               0.0   \n",
       "3   332.5               142.5      0.0  228.0               0.0   \n",
       "4   198.6               132.4      0.0  192.0               0.0   \n",
       "\n",
       "   Coarse Aggregate  Fine Aggregate  Age  Strength  \n",
       "0            1040.0           676.0   28     79.99  \n",
       "1            1055.0           676.0   28     61.89  \n",
       "2             932.0           594.0  270     40.27  \n",
       "3             932.0           594.0  365     41.05  \n",
       "4             978.4           825.5  360     44.30  "
      ]
     },
     "execution_count": 2,
     "metadata": {},
     "output_type": "execute_result"
    }
   ],
   "source": [
    "df = pd.read_csv('https://s3-api.us-geo.objectstorage.softlayer.net/cf-courses-data/CognitiveClass/DL0101EN/labs/data/concrete_data.csv')\n",
    "df.head()"
   ]
  },
  {
   "cell_type": "code",
   "execution_count": 3,
   "id": "09a295fb",
   "metadata": {},
   "outputs": [
    {
     "data": {
      "text/plain": [
       "(1030, 9)"
      ]
     },
     "execution_count": 3,
     "metadata": {},
     "output_type": "execute_result"
    }
   ],
   "source": [
    "df.shape"
   ]
  },
  {
   "cell_type": "code",
   "execution_count": 4,
   "id": "c9ea2a0f",
   "metadata": {},
   "outputs": [
    {
     "data": {
      "text/html": [
       "<div>\n",
       "<style scoped>\n",
       "    .dataframe tbody tr th:only-of-type {\n",
       "        vertical-align: middle;\n",
       "    }\n",
       "\n",
       "    .dataframe tbody tr th {\n",
       "        vertical-align: top;\n",
       "    }\n",
       "\n",
       "    .dataframe thead th {\n",
       "        text-align: right;\n",
       "    }\n",
       "</style>\n",
       "<table border=\"1\" class=\"dataframe\">\n",
       "  <thead>\n",
       "    <tr style=\"text-align: right;\">\n",
       "      <th></th>\n",
       "      <th>Cement</th>\n",
       "      <th>Blast Furnace Slag</th>\n",
       "      <th>Fly Ash</th>\n",
       "      <th>Water</th>\n",
       "      <th>Superplasticizer</th>\n",
       "      <th>Coarse Aggregate</th>\n",
       "      <th>Fine Aggregate</th>\n",
       "      <th>Age</th>\n",
       "      <th>Strength</th>\n",
       "    </tr>\n",
       "  </thead>\n",
       "  <tbody>\n",
       "    <tr>\n",
       "      <th>count</th>\n",
       "      <td>1030.000000</td>\n",
       "      <td>1030.000000</td>\n",
       "      <td>1030.000000</td>\n",
       "      <td>1030.000000</td>\n",
       "      <td>1030.000000</td>\n",
       "      <td>1030.000000</td>\n",
       "      <td>1030.000000</td>\n",
       "      <td>1030.000000</td>\n",
       "      <td>1030.000000</td>\n",
       "    </tr>\n",
       "    <tr>\n",
       "      <th>mean</th>\n",
       "      <td>281.167864</td>\n",
       "      <td>73.895825</td>\n",
       "      <td>54.188350</td>\n",
       "      <td>181.567282</td>\n",
       "      <td>6.204660</td>\n",
       "      <td>972.918932</td>\n",
       "      <td>773.580485</td>\n",
       "      <td>45.662136</td>\n",
       "      <td>35.817961</td>\n",
       "    </tr>\n",
       "    <tr>\n",
       "      <th>std</th>\n",
       "      <td>104.506364</td>\n",
       "      <td>86.279342</td>\n",
       "      <td>63.997004</td>\n",
       "      <td>21.354219</td>\n",
       "      <td>5.973841</td>\n",
       "      <td>77.753954</td>\n",
       "      <td>80.175980</td>\n",
       "      <td>63.169912</td>\n",
       "      <td>16.705742</td>\n",
       "    </tr>\n",
       "    <tr>\n",
       "      <th>min</th>\n",
       "      <td>102.000000</td>\n",
       "      <td>0.000000</td>\n",
       "      <td>0.000000</td>\n",
       "      <td>121.800000</td>\n",
       "      <td>0.000000</td>\n",
       "      <td>801.000000</td>\n",
       "      <td>594.000000</td>\n",
       "      <td>1.000000</td>\n",
       "      <td>2.330000</td>\n",
       "    </tr>\n",
       "    <tr>\n",
       "      <th>25%</th>\n",
       "      <td>192.375000</td>\n",
       "      <td>0.000000</td>\n",
       "      <td>0.000000</td>\n",
       "      <td>164.900000</td>\n",
       "      <td>0.000000</td>\n",
       "      <td>932.000000</td>\n",
       "      <td>730.950000</td>\n",
       "      <td>7.000000</td>\n",
       "      <td>23.710000</td>\n",
       "    </tr>\n",
       "    <tr>\n",
       "      <th>50%</th>\n",
       "      <td>272.900000</td>\n",
       "      <td>22.000000</td>\n",
       "      <td>0.000000</td>\n",
       "      <td>185.000000</td>\n",
       "      <td>6.400000</td>\n",
       "      <td>968.000000</td>\n",
       "      <td>779.500000</td>\n",
       "      <td>28.000000</td>\n",
       "      <td>34.445000</td>\n",
       "    </tr>\n",
       "    <tr>\n",
       "      <th>75%</th>\n",
       "      <td>350.000000</td>\n",
       "      <td>142.950000</td>\n",
       "      <td>118.300000</td>\n",
       "      <td>192.000000</td>\n",
       "      <td>10.200000</td>\n",
       "      <td>1029.400000</td>\n",
       "      <td>824.000000</td>\n",
       "      <td>56.000000</td>\n",
       "      <td>46.135000</td>\n",
       "    </tr>\n",
       "    <tr>\n",
       "      <th>max</th>\n",
       "      <td>540.000000</td>\n",
       "      <td>359.400000</td>\n",
       "      <td>200.100000</td>\n",
       "      <td>247.000000</td>\n",
       "      <td>32.200000</td>\n",
       "      <td>1145.000000</td>\n",
       "      <td>992.600000</td>\n",
       "      <td>365.000000</td>\n",
       "      <td>82.600000</td>\n",
       "    </tr>\n",
       "  </tbody>\n",
       "</table>\n",
       "</div>"
      ],
      "text/plain": [
       "            Cement  Blast Furnace Slag      Fly Ash        Water  \\\n",
       "count  1030.000000         1030.000000  1030.000000  1030.000000   \n",
       "mean    281.167864           73.895825    54.188350   181.567282   \n",
       "std     104.506364           86.279342    63.997004    21.354219   \n",
       "min     102.000000            0.000000     0.000000   121.800000   \n",
       "25%     192.375000            0.000000     0.000000   164.900000   \n",
       "50%     272.900000           22.000000     0.000000   185.000000   \n",
       "75%     350.000000          142.950000   118.300000   192.000000   \n",
       "max     540.000000          359.400000   200.100000   247.000000   \n",
       "\n",
       "       Superplasticizer  Coarse Aggregate  Fine Aggregate          Age  \\\n",
       "count       1030.000000       1030.000000     1030.000000  1030.000000   \n",
       "mean           6.204660        972.918932      773.580485    45.662136   \n",
       "std            5.973841         77.753954       80.175980    63.169912   \n",
       "min            0.000000        801.000000      594.000000     1.000000   \n",
       "25%            0.000000        932.000000      730.950000     7.000000   \n",
       "50%            6.400000        968.000000      779.500000    28.000000   \n",
       "75%           10.200000       1029.400000      824.000000    56.000000   \n",
       "max           32.200000       1145.000000      992.600000   365.000000   \n",
       "\n",
       "          Strength  \n",
       "count  1030.000000  \n",
       "mean     35.817961  \n",
       "std      16.705742  \n",
       "min       2.330000  \n",
       "25%      23.710000  \n",
       "50%      34.445000  \n",
       "75%      46.135000  \n",
       "max      82.600000  "
      ]
     },
     "execution_count": 4,
     "metadata": {},
     "output_type": "execute_result"
    }
   ],
   "source": [
    "df.describe()"
   ]
  },
  {
   "cell_type": "code",
   "execution_count": 5,
   "id": "80dd7ca5",
   "metadata": {},
   "outputs": [
    {
     "data": {
      "text/plain": [
       "Cement                0\n",
       "Blast Furnace Slag    0\n",
       "Fly Ash               0\n",
       "Water                 0\n",
       "Superplasticizer      0\n",
       "Coarse Aggregate      0\n",
       "Fine Aggregate        0\n",
       "Age                   0\n",
       "Strength              0\n",
       "dtype: int64"
      ]
     },
     "execution_count": 5,
     "metadata": {},
     "output_type": "execute_result"
    }
   ],
   "source": [
    "df.isnull().sum()"
   ]
  },
  {
   "cell_type": "code",
   "execution_count": 6,
   "id": "3d5147c8",
   "metadata": {},
   "outputs": [
    {
     "data": {
      "text/html": [
       "<div>\n",
       "<style scoped>\n",
       "    .dataframe tbody tr th:only-of-type {\n",
       "        vertical-align: middle;\n",
       "    }\n",
       "\n",
       "    .dataframe tbody tr th {\n",
       "        vertical-align: top;\n",
       "    }\n",
       "\n",
       "    .dataframe thead th {\n",
       "        text-align: right;\n",
       "    }\n",
       "</style>\n",
       "<table border=\"1\" class=\"dataframe\">\n",
       "  <thead>\n",
       "    <tr style=\"text-align: right;\">\n",
       "      <th></th>\n",
       "      <th>Cement</th>\n",
       "      <th>Blast Furnace Slag</th>\n",
       "      <th>Fly Ash</th>\n",
       "      <th>Water</th>\n",
       "      <th>Superplasticizer</th>\n",
       "      <th>Coarse Aggregate</th>\n",
       "      <th>Fine Aggregate</th>\n",
       "      <th>Age</th>\n",
       "    </tr>\n",
       "  </thead>\n",
       "  <tbody>\n",
       "    <tr>\n",
       "      <th>0</th>\n",
       "      <td>540.0</td>\n",
       "      <td>0.0</td>\n",
       "      <td>0.0</td>\n",
       "      <td>162.0</td>\n",
       "      <td>2.5</td>\n",
       "      <td>1040.0</td>\n",
       "      <td>676.0</td>\n",
       "      <td>28</td>\n",
       "    </tr>\n",
       "    <tr>\n",
       "      <th>1</th>\n",
       "      <td>540.0</td>\n",
       "      <td>0.0</td>\n",
       "      <td>0.0</td>\n",
       "      <td>162.0</td>\n",
       "      <td>2.5</td>\n",
       "      <td>1055.0</td>\n",
       "      <td>676.0</td>\n",
       "      <td>28</td>\n",
       "    </tr>\n",
       "    <tr>\n",
       "      <th>2</th>\n",
       "      <td>332.5</td>\n",
       "      <td>142.5</td>\n",
       "      <td>0.0</td>\n",
       "      <td>228.0</td>\n",
       "      <td>0.0</td>\n",
       "      <td>932.0</td>\n",
       "      <td>594.0</td>\n",
       "      <td>270</td>\n",
       "    </tr>\n",
       "    <tr>\n",
       "      <th>3</th>\n",
       "      <td>332.5</td>\n",
       "      <td>142.5</td>\n",
       "      <td>0.0</td>\n",
       "      <td>228.0</td>\n",
       "      <td>0.0</td>\n",
       "      <td>932.0</td>\n",
       "      <td>594.0</td>\n",
       "      <td>365</td>\n",
       "    </tr>\n",
       "    <tr>\n",
       "      <th>4</th>\n",
       "      <td>198.6</td>\n",
       "      <td>132.4</td>\n",
       "      <td>0.0</td>\n",
       "      <td>192.0</td>\n",
       "      <td>0.0</td>\n",
       "      <td>978.4</td>\n",
       "      <td>825.5</td>\n",
       "      <td>360</td>\n",
       "    </tr>\n",
       "  </tbody>\n",
       "</table>\n",
       "</div>"
      ],
      "text/plain": [
       "   Cement  Blast Furnace Slag  Fly Ash  Water  Superplasticizer  \\\n",
       "0   540.0                 0.0      0.0  162.0               2.5   \n",
       "1   540.0                 0.0      0.0  162.0               2.5   \n",
       "2   332.5               142.5      0.0  228.0               0.0   \n",
       "3   332.5               142.5      0.0  228.0               0.0   \n",
       "4   198.6               132.4      0.0  192.0               0.0   \n",
       "\n",
       "   Coarse Aggregate  Fine Aggregate  Age  \n",
       "0            1040.0           676.0   28  \n",
       "1            1055.0           676.0   28  \n",
       "2             932.0           594.0  270  \n",
       "3             932.0           594.0  365  \n",
       "4             978.4           825.5  360  "
      ]
     },
     "execution_count": 6,
     "metadata": {},
     "output_type": "execute_result"
    }
   ],
   "source": [
    "df_columns = df.columns\n",
    "\n",
    "predictors = df[df_columns[df_columns != 'Strength']] \n",
    "predictors.head()"
   ]
  },
  {
   "cell_type": "code",
   "execution_count": 7,
   "id": "a22c2c8d",
   "metadata": {},
   "outputs": [
    {
     "data": {
      "text/plain": [
       "0    79.99\n",
       "1    61.89\n",
       "2    40.27\n",
       "3    41.05\n",
       "4    44.30\n",
       "Name: Strength, dtype: float64"
      ]
     },
     "execution_count": 7,
     "metadata": {},
     "output_type": "execute_result"
    }
   ],
   "source": [
    "target = df['Strength'] \n",
    "target.head()"
   ]
  },
  {
   "cell_type": "code",
   "execution_count": 8,
   "id": "e87fb14e",
   "metadata": {},
   "outputs": [
    {
     "data": {
      "text/html": [
       "<div>\n",
       "<style scoped>\n",
       "    .dataframe tbody tr th:only-of-type {\n",
       "        vertical-align: middle;\n",
       "    }\n",
       "\n",
       "    .dataframe tbody tr th {\n",
       "        vertical-align: top;\n",
       "    }\n",
       "\n",
       "    .dataframe thead th {\n",
       "        text-align: right;\n",
       "    }\n",
       "</style>\n",
       "<table border=\"1\" class=\"dataframe\">\n",
       "  <thead>\n",
       "    <tr style=\"text-align: right;\">\n",
       "      <th></th>\n",
       "      <th>Cement</th>\n",
       "      <th>Blast Furnace Slag</th>\n",
       "      <th>Fly Ash</th>\n",
       "      <th>Water</th>\n",
       "      <th>Superplasticizer</th>\n",
       "      <th>Coarse Aggregate</th>\n",
       "      <th>Fine Aggregate</th>\n",
       "      <th>Age</th>\n",
       "    </tr>\n",
       "  </thead>\n",
       "  <tbody>\n",
       "    <tr>\n",
       "      <th>0</th>\n",
       "      <td>2.476712</td>\n",
       "      <td>-0.856472</td>\n",
       "      <td>-0.846733</td>\n",
       "      <td>-0.916319</td>\n",
       "      <td>-0.620147</td>\n",
       "      <td>0.862735</td>\n",
       "      <td>-1.217079</td>\n",
       "      <td>-0.279597</td>\n",
       "    </tr>\n",
       "    <tr>\n",
       "      <th>1</th>\n",
       "      <td>2.476712</td>\n",
       "      <td>-0.856472</td>\n",
       "      <td>-0.846733</td>\n",
       "      <td>-0.916319</td>\n",
       "      <td>-0.620147</td>\n",
       "      <td>1.055651</td>\n",
       "      <td>-1.217079</td>\n",
       "      <td>-0.279597</td>\n",
       "    </tr>\n",
       "    <tr>\n",
       "      <th>2</th>\n",
       "      <td>0.491187</td>\n",
       "      <td>0.795140</td>\n",
       "      <td>-0.846733</td>\n",
       "      <td>2.174405</td>\n",
       "      <td>-1.038638</td>\n",
       "      <td>-0.526262</td>\n",
       "      <td>-2.239829</td>\n",
       "      <td>3.551340</td>\n",
       "    </tr>\n",
       "    <tr>\n",
       "      <th>3</th>\n",
       "      <td>0.491187</td>\n",
       "      <td>0.795140</td>\n",
       "      <td>-0.846733</td>\n",
       "      <td>2.174405</td>\n",
       "      <td>-1.038638</td>\n",
       "      <td>-0.526262</td>\n",
       "      <td>-2.239829</td>\n",
       "      <td>5.055221</td>\n",
       "    </tr>\n",
       "    <tr>\n",
       "      <th>4</th>\n",
       "      <td>-0.790075</td>\n",
       "      <td>0.678079</td>\n",
       "      <td>-0.846733</td>\n",
       "      <td>0.488555</td>\n",
       "      <td>-1.038638</td>\n",
       "      <td>0.070492</td>\n",
       "      <td>0.647569</td>\n",
       "      <td>4.976069</td>\n",
       "    </tr>\n",
       "  </tbody>\n",
       "</table>\n",
       "</div>"
      ],
      "text/plain": [
       "     Cement  Blast Furnace Slag   Fly Ash     Water  Superplasticizer  \\\n",
       "0  2.476712           -0.856472 -0.846733 -0.916319         -0.620147   \n",
       "1  2.476712           -0.856472 -0.846733 -0.916319         -0.620147   \n",
       "2  0.491187            0.795140 -0.846733  2.174405         -1.038638   \n",
       "3  0.491187            0.795140 -0.846733  2.174405         -1.038638   \n",
       "4 -0.790075            0.678079 -0.846733  0.488555         -1.038638   \n",
       "\n",
       "   Coarse Aggregate  Fine Aggregate       Age  \n",
       "0          0.862735       -1.217079 -0.279597  \n",
       "1          1.055651       -1.217079 -0.279597  \n",
       "2         -0.526262       -2.239829  3.551340  \n",
       "3         -0.526262       -2.239829  5.055221  \n",
       "4          0.070492        0.647569  4.976069  "
      ]
     },
     "execution_count": 8,
     "metadata": {},
     "output_type": "execute_result"
    }
   ],
   "source": [
    "# Normalization\n",
    "predictors_norm = (predictors - predictors.mean()) / predictors.std()\n",
    "predictors_norm.head()"
   ]
  },
  {
   "cell_type": "code",
   "execution_count": 9,
   "id": "6be26dae",
   "metadata": {},
   "outputs": [],
   "source": [
    "from tensorflow import keras"
   ]
  },
  {
   "cell_type": "code",
   "execution_count": 10,
   "id": "a20cee29",
   "metadata": {},
   "outputs": [],
   "source": [
    "from keras.models import Sequential\n",
    "from keras.layers import Dense"
   ]
  },
  {
   "cell_type": "code",
   "execution_count": 11,
   "id": "e3e29615",
   "metadata": {},
   "outputs": [
    {
     "data": {
      "text/plain": [
       "8"
      ]
     },
     "execution_count": 11,
     "metadata": {},
     "output_type": "execute_result"
    }
   ],
   "source": [
    "n_cols = predictors_norm.shape[1]\n",
    "n_cols"
   ]
  },
  {
   "cell_type": "code",
   "execution_count": 12,
   "id": "0476e0b6",
   "metadata": {},
   "outputs": [],
   "source": [
    "from sklearn.model_selection import train_test_split\n",
    "\n",
    "X_train, X_test, y_train, y_test = train_test_split(predictors_norm, target, test_size=0.3, random_state=42)"
   ]
  },
  {
   "cell_type": "code",
   "execution_count": 13,
   "id": "4bec5632",
   "metadata": {},
   "outputs": [
    {
     "data": {
      "text/plain": [
       "(721, 8)"
      ]
     },
     "execution_count": 13,
     "metadata": {},
     "output_type": "execute_result"
    }
   ],
   "source": [
    "X_train.shape"
   ]
  },
  {
   "cell_type": "code",
   "execution_count": 14,
   "id": "8b23851e",
   "metadata": {},
   "outputs": [],
   "source": [
    "def regression_model():\n",
    "    model = Sequential()\n",
    "    \n",
    "    # Add the first hidden layer with 10 nodes and ReLU activation\n",
    "    model.add(Dense(10, activation='relu', input_shape=(n_cols,)))\n",
    "    \n",
    "    # Add the second hidden layer with 10 nodes and ReLU activation\n",
    "    model.add(Dense(10, activation='relu'))\n",
    "\n",
    "    # Add the third hidden layer with 10 nodes and ReLU activation\n",
    "    model.add(Dense(10, activation='relu'))\n",
    "    \n",
    "    model.add(Dense(1))\n",
    "    \n",
    "    # compile model\n",
    "    model.compile(optimizer='adam', loss='mean_squared_error')\n",
    "    return model"
   ]
  },
  {
   "cell_type": "code",
   "execution_count": 15,
   "id": "80a6b095",
   "metadata": {},
   "outputs": [],
   "source": [
    "model = regression_model()"
   ]
  },
  {
   "cell_type": "code",
   "execution_count": 16,
   "id": "381c0d8c",
   "metadata": {},
   "outputs": [
    {
     "name": "stdout",
     "output_type": "stream",
     "text": [
      "Epoch 1/50\n",
      "23/23 - 0s - loss: 1575.9436 - 404ms/epoch - 18ms/step\n",
      "Epoch 2/50\n",
      "23/23 - 0s - loss: 1547.0990 - 17ms/epoch - 739us/step\n",
      "Epoch 3/50\n",
      "23/23 - 0s - loss: 1512.9768 - 20ms/epoch - 869us/step\n",
      "Epoch 4/50\n",
      "23/23 - 0s - loss: 1467.7747 - 17ms/epoch - 751us/step\n",
      "Epoch 5/50\n",
      "23/23 - 0s - loss: 1405.5256 - 14ms/epoch - 609us/step\n",
      "Epoch 6/50\n",
      "23/23 - 0s - loss: 1315.2456 - 14ms/epoch - 609us/step\n",
      "Epoch 7/50\n",
      "23/23 - 0s - loss: 1184.3302 - 15ms/epoch - 652us/step\n",
      "Epoch 8/50\n",
      "23/23 - 0s - loss: 1005.1365 - 15ms/epoch - 652us/step\n",
      "Epoch 9/50\n",
      "23/23 - 0s - loss: 781.9730 - 15ms/epoch - 652us/step\n",
      "Epoch 10/50\n",
      "23/23 - 0s - loss: 547.5612 - 15ms/epoch - 652us/step\n",
      "Epoch 11/50\n",
      "23/23 - 0s - loss: 365.1836 - 15ms/epoch - 652us/step\n",
      "Epoch 12/50\n",
      "23/23 - 0s - loss: 276.2247 - 15ms/epoch - 652us/step\n",
      "Epoch 13/50\n",
      "23/23 - 0s - loss: 242.3051 - 16ms/epoch - 696us/step\n",
      "Epoch 14/50\n",
      "23/23 - 0s - loss: 226.1111 - 18ms/epoch - 783us/step\n",
      "Epoch 15/50\n",
      "23/23 - 0s - loss: 214.6972 - 18ms/epoch - 783us/step\n",
      "Epoch 16/50\n",
      "23/23 - 0s - loss: 206.1205 - 21ms/epoch - 913us/step\n",
      "Epoch 17/50\n",
      "23/23 - 0s - loss: 199.0344 - 23ms/epoch - 1ms/step\n",
      "Epoch 18/50\n",
      "23/23 - 0s - loss: 193.1167 - 19ms/epoch - 826us/step\n",
      "Epoch 19/50\n",
      "23/23 - 0s - loss: 187.9269 - 19ms/epoch - 826us/step\n",
      "Epoch 20/50\n",
      "23/23 - 0s - loss: 183.0159 - 18ms/epoch - 783us/step\n",
      "Epoch 21/50\n",
      "23/23 - 0s - loss: 178.6326 - 20ms/epoch - 870us/step\n",
      "Epoch 22/50\n",
      "23/23 - 0s - loss: 174.6697 - 19ms/epoch - 826us/step\n",
      "Epoch 23/50\n",
      "23/23 - 0s - loss: 170.6916 - 19ms/epoch - 826us/step\n",
      "Epoch 24/50\n",
      "23/23 - 0s - loss: 167.8361 - 19ms/epoch - 826us/step\n",
      "Epoch 25/50\n",
      "23/23 - 0s - loss: 164.3685 - 17ms/epoch - 739us/step\n",
      "Epoch 26/50\n",
      "23/23 - 0s - loss: 160.7922 - 15ms/epoch - 652us/step\n",
      "Epoch 27/50\n",
      "23/23 - 0s - loss: 157.7115 - 15ms/epoch - 652us/step\n",
      "Epoch 28/50\n",
      "23/23 - 0s - loss: 154.9501 - 15ms/epoch - 652us/step\n",
      "Epoch 29/50\n",
      "23/23 - 0s - loss: 151.9109 - 15ms/epoch - 652us/step\n",
      "Epoch 30/50\n",
      "23/23 - 0s - loss: 149.1619 - 15ms/epoch - 652us/step\n",
      "Epoch 31/50\n",
      "23/23 - 0s - loss: 146.3212 - 15ms/epoch - 652us/step\n",
      "Epoch 32/50\n",
      "23/23 - 0s - loss: 143.8977 - 15ms/epoch - 652us/step\n",
      "Epoch 33/50\n",
      "23/23 - 0s - loss: 141.3542 - 16ms/epoch - 696us/step\n",
      "Epoch 34/50\n",
      "23/23 - 0s - loss: 138.7737 - 15ms/epoch - 652us/step\n",
      "Epoch 35/50\n",
      "23/23 - 0s - loss: 136.3555 - 15ms/epoch - 652us/step\n",
      "Epoch 36/50\n",
      "23/23 - 0s - loss: 133.6654 - 17ms/epoch - 739us/step\n",
      "Epoch 37/50\n",
      "23/23 - 0s - loss: 131.1555 - 16ms/epoch - 696us/step\n",
      "Epoch 38/50\n",
      "23/23 - 0s - loss: 128.7446 - 17ms/epoch - 739us/step\n",
      "Epoch 39/50\n",
      "23/23 - 0s - loss: 126.4181 - 15ms/epoch - 652us/step\n",
      "Epoch 40/50\n",
      "23/23 - 0s - loss: 124.1167 - 15ms/epoch - 652us/step\n",
      "Epoch 41/50\n",
      "23/23 - 0s - loss: 121.7997 - 17ms/epoch - 739us/step\n",
      "Epoch 42/50\n",
      "23/23 - 0s - loss: 119.1523 - 18ms/epoch - 783us/step\n",
      "Epoch 43/50\n",
      "23/23 - 0s - loss: 117.0429 - 14ms/epoch - 609us/step\n",
      "Epoch 44/50\n",
      "23/23 - 0s - loss: 115.1854 - 14ms/epoch - 609us/step\n",
      "Epoch 45/50\n",
      "23/23 - 0s - loss: 112.8498 - 15ms/epoch - 652us/step\n",
      "Epoch 46/50\n",
      "23/23 - 0s - loss: 110.6806 - 15ms/epoch - 652us/step\n",
      "Epoch 47/50\n",
      "23/23 - 0s - loss: 109.0091 - 16ms/epoch - 696us/step\n",
      "Epoch 48/50\n",
      "23/23 - 0s - loss: 106.6724 - 16ms/epoch - 696us/step\n",
      "Epoch 49/50\n",
      "23/23 - 0s - loss: 104.7916 - 15ms/epoch - 652us/step\n",
      "Epoch 50/50\n",
      "23/23 - 0s - loss: 103.0334 - 14ms/epoch - 609us/step\n"
     ]
    },
    {
     "data": {
      "text/plain": [
       "<keras.src.callbacks.History at 0x2c6de1539d0>"
      ]
     },
     "execution_count": 16,
     "metadata": {},
     "output_type": "execute_result"
    }
   ],
   "source": [
    "model.fit(X_train, y_train, epochs=50, verbose=2)"
   ]
  },
  {
   "cell_type": "code",
   "execution_count": 17,
   "id": "80facfec",
   "metadata": {},
   "outputs": [
    {
     "name": "stdout",
     "output_type": "stream",
     "text": [
      "10/10 [==============================] - 0s 889us/step - loss: 103.7025\n"
     ]
    },
    {
     "data": {
      "text/plain": [
       "103.70252990722656"
      ]
     },
     "execution_count": 17,
     "metadata": {},
     "output_type": "execute_result"
    }
   ],
   "source": [
    "loss = model.evaluate(X_test, y_test)\n",
    "loss"
   ]
  },
  {
   "cell_type": "code",
   "execution_count": 18,
   "id": "0620bcf4",
   "metadata": {},
   "outputs": [
    {
     "name": "stdout",
     "output_type": "stream",
     "text": [
      "10/10 [==============================] - 0s 555us/step\n"
     ]
    }
   ],
   "source": [
    "from sklearn.metrics import mean_squared_error\n",
    "\n",
    "y_pred = model.predict(X_test)\n",
    "\n",
    "# Compute the Mean Squared Error (MSE)\n",
    "mse = mean_squared_error(y_test, y_pred)"
   ]
  },
  {
   "cell_type": "code",
   "execution_count": 19,
   "id": "33889848",
   "metadata": {},
   "outputs": [
    {
     "name": "stdout",
     "output_type": "stream",
     "text": [
      "10/10 [==============================] - 0s 555us/step\n",
      "10/10 [==============================] - 0s 889us/step\n",
      "10/10 [==============================] - 0s 778us/step\n",
      "10/10 [==============================] - 0s 889us/step\n",
      "10/10 [==============================] - 0s 999us/step\n",
      "10/10 [==============================] - 0s 778us/step\n",
      "10/10 [==============================] - 0s 667us/step\n",
      "10/10 [==============================] - 0s 778us/step\n",
      "10/10 [==============================] - 0s 889us/step\n",
      "10/10 [==============================] - 0s 1ms/step\n",
      "10/10 [==============================] - 0s 763us/step\n",
      "10/10 [==============================] - 0s 1ms/step\n",
      "10/10 [==============================] - 0s 807us/step\n",
      "10/10 [==============================] - 0s 949us/step\n",
      "10/10 [==============================] - 0s 889us/step\n",
      "10/10 [==============================] - 0s 778us/step\n",
      "10/10 [==============================] - 0s 777us/step\n",
      "10/10 [==============================] - 0s 778us/step\n",
      "10/10 [==============================] - 0s 889us/step\n",
      "10/10 [==============================] - 0s 778us/step\n",
      "10/10 [==============================] - 0s 778us/step\n",
      "10/10 [==============================] - 0s 889us/step\n",
      "10/10 [==============================] - 0s 779us/step\n",
      "10/10 [==============================] - 0s 778us/step\n",
      "10/10 [==============================] - 0s 1ms/step\n",
      "10/10 [==============================] - 0s 667us/step\n",
      "10/10 [==============================] - 0s 1ms/step\n",
      "10/10 [==============================] - 0s 889us/step\n",
      "10/10 [==============================] - 0s 778us/step\n",
      "10/10 [==============================] - 0s 778us/step\n",
      "10/10 [==============================] - 0s 667us/step\n",
      "10/10 [==============================] - 0s 778us/step\n",
      "10/10 [==============================] - 0s 667us/step\n",
      "10/10 [==============================] - 0s 889us/step\n",
      "10/10 [==============================] - 0s 1ms/step\n",
      "10/10 [==============================] - 0s 778us/step\n",
      "10/10 [==============================] - 0s 1ms/step\n",
      "10/10 [==============================] - 0s 926us/step\n",
      "10/10 [==============================] - 0s 777us/step\n",
      "10/10 [==============================] - 0s 778us/step\n",
      "10/10 [==============================] - 0s 810us/step\n",
      "10/10 [==============================] - 0s 667us/step\n",
      "10/10 [==============================] - 0s 1ms/step\n",
      "10/10 [==============================] - 0s 890us/step\n",
      "10/10 [==============================] - 0s 889us/step\n",
      "10/10 [==============================] - 0s 985us/step\n",
      "10/10 [==============================] - 0s 889us/step\n",
      "10/10 [==============================] - 0s 778us/step\n",
      "10/10 [==============================] - 0s 889us/step\n",
      "10/10 [==============================] - 0s 884us/step\n"
     ]
    },
    {
     "data": {
      "text/plain": [
       "[137.52060779858803,\n",
       " 93.76185157311672,\n",
       " 140.11365776715417,\n",
       " 125.28842694683074,\n",
       " 130.6678542980545,\n",
       " 120.89965851570103,\n",
       " 105.93213833473766,\n",
       " 121.48540888238587,\n",
       " 116.49452198128883,\n",
       " 127.02412842022004,\n",
       " 133.65323301443746,\n",
       " 125.76756130566172,\n",
       " 124.76880990266436,\n",
       " 112.5050514938182,\n",
       " 138.0912606625107,\n",
       " 136.73917130153134,\n",
       " 115.19720848023792,\n",
       " 121.34561443508807,\n",
       " 138.55239917483362,\n",
       " 133.51385744082015,\n",
       " 132.35487543868572,\n",
       " 96.70296634355122,\n",
       " 106.90808991798875,\n",
       " 97.46262537350128,\n",
       " 107.92739517452225,\n",
       " 117.81955526278684,\n",
       " 130.01649540462927,\n",
       " 110.05904532625605,\n",
       " 131.6050300948433,\n",
       " 98.24977365550902,\n",
       " 110.60708169788153,\n",
       " 134.16825038782812,\n",
       " 129.89008410218483,\n",
       " 105.60956284849802,\n",
       " 135.42970313188889,\n",
       " 125.74500296333015,\n",
       " 130.64227400417963,\n",
       " 118.57293719039667,\n",
       " 136.5911555677333,\n",
       " 127.42655664948369,\n",
       " 130.69425227551068,\n",
       " 126.18274309368704,\n",
       " 119.82120313716206,\n",
       " 131.41801317911958,\n",
       " 126.28372239672458,\n",
       " 130.10742121942502,\n",
       " 99.30437253880612,\n",
       " 135.51938010107924,\n",
       " 126.18071397409959,\n",
       " 140.6898702114364]"
      ]
     },
     "execution_count": 19,
     "metadata": {},
     "output_type": "execute_result"
    }
   ],
   "source": [
    "mse_list = []\n",
    "\n",
    "for _ in range(50):\n",
    "    \n",
    "    X_train, X_test, y_train, y_test = train_test_split(predictors_norm, target, test_size=0.3, random_state=42)\n",
    "    \n",
    "    model = Sequential()\n",
    "    model.add(Dense(10, activation='relu', input_shape=(n_cols,)))\n",
    "    # Add the second hidden layer with 10 nodes and ReLU activation\n",
    "    model.add(Dense(10, activation='relu'))\n",
    "\n",
    "    # Add the third hidden layer with 10 nodes and ReLU activation\n",
    "    model.add(Dense(10, activation='relu'))\n",
    "    model.add(Dense(1))\n",
    "    model.compile(optimizer='adam', loss='mean_squared_error')\n",
    "    model.fit(X_train, y_train, epochs=50, verbose=0)  # Training with 50 epochs\n",
    "    \n",
    "    # Step 3: Evaluate the model on the test data and compute MSE\n",
    "    y_pred = model.predict(X_test)\n",
    "    mse = mean_squared_error(y_test, y_pred)\n",
    "    \n",
    "    # Append the MSE to the list\n",
    "    mse_list.append(mse)\n",
    "\n",
    "mse_list"
   ]
  },
  {
   "cell_type": "code",
   "execution_count": 20,
   "id": "bb3261fd",
   "metadata": {},
   "outputs": [],
   "source": [
    "# mean and standard deviation of mean squared error list\n",
    "mse_mean = np.mean(mse_list)\n",
    "mse_std = np.std(mse_list)"
   ]
  },
  {
   "cell_type": "code",
   "execution_count": 21,
   "id": "4d109aa4",
   "metadata": {},
   "outputs": [
    {
     "data": {
      "text/plain": [
       "122.98625148784822"
      ]
     },
     "execution_count": 21,
     "metadata": {},
     "output_type": "execute_result"
    }
   ],
   "source": [
    "mse_mean"
   ]
  },
  {
   "cell_type": "code",
   "execution_count": 22,
   "id": "125d96c0",
   "metadata": {},
   "outputs": [
    {
     "data": {
      "text/plain": [
       "12.664159179525125"
      ]
     },
     "execution_count": 22,
     "metadata": {},
     "output_type": "execute_result"
    }
   ],
   "source": [
    "mse_std"
   ]
  },
  {
   "cell_type": "code",
   "execution_count": 23,
   "id": "2a9bf4aa",
   "metadata": {},
   "outputs": [],
   "source": [
    "#Comparing the values, it seems that the mean MSE is significantly lower for the second neural network with three hidden layers; \n",
    "#this suggests that the second model, with more complexity - more hidden layers - , is performing better on the normalized data.\n",
    "#Furthermore, the standard deviation of the MSE is much lower for the second neural network; \n",
    "#this, in turn, suggests that the predictions are more consistent when the model has more hidden layers."
   ]
  }
 ],
 "metadata": {
  "kernelspec": {
   "display_name": "Python 3 (ipykernel)",
   "language": "python",
   "name": "python3"
  },
  "language_info": {
   "codemirror_mode": {
    "name": "ipython",
    "version": 3
   },
   "file_extension": ".py",
   "mimetype": "text/x-python",
   "name": "python",
   "nbconvert_exporter": "python",
   "pygments_lexer": "ipython3",
   "version": "3.9.13"
  }
 },
 "nbformat": 4,
 "nbformat_minor": 5
}
