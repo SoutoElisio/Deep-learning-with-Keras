{
 "cells": [
  {
   "cell_type": "code",
   "execution_count": 1,
   "id": "bea37302",
   "metadata": {},
   "outputs": [],
   "source": [
    "#import libraries\n",
    "import pandas as pd\n",
    "import numpy as np"
   ]
  },
  {
   "cell_type": "code",
   "execution_count": 2,
   "id": "acdf1bee",
   "metadata": {},
   "outputs": [
    {
     "data": {
      "text/html": [
       "<div>\n",
       "<style scoped>\n",
       "    .dataframe tbody tr th:only-of-type {\n",
       "        vertical-align: middle;\n",
       "    }\n",
       "\n",
       "    .dataframe tbody tr th {\n",
       "        vertical-align: top;\n",
       "    }\n",
       "\n",
       "    .dataframe thead th {\n",
       "        text-align: right;\n",
       "    }\n",
       "</style>\n",
       "<table border=\"1\" class=\"dataframe\">\n",
       "  <thead>\n",
       "    <tr style=\"text-align: right;\">\n",
       "      <th></th>\n",
       "      <th>Cement</th>\n",
       "      <th>Blast Furnace Slag</th>\n",
       "      <th>Fly Ash</th>\n",
       "      <th>Water</th>\n",
       "      <th>Superplasticizer</th>\n",
       "      <th>Coarse Aggregate</th>\n",
       "      <th>Fine Aggregate</th>\n",
       "      <th>Age</th>\n",
       "      <th>Strength</th>\n",
       "    </tr>\n",
       "  </thead>\n",
       "  <tbody>\n",
       "    <tr>\n",
       "      <th>0</th>\n",
       "      <td>540.0</td>\n",
       "      <td>0.0</td>\n",
       "      <td>0.0</td>\n",
       "      <td>162.0</td>\n",
       "      <td>2.5</td>\n",
       "      <td>1040.0</td>\n",
       "      <td>676.0</td>\n",
       "      <td>28</td>\n",
       "      <td>79.99</td>\n",
       "    </tr>\n",
       "    <tr>\n",
       "      <th>1</th>\n",
       "      <td>540.0</td>\n",
       "      <td>0.0</td>\n",
       "      <td>0.0</td>\n",
       "      <td>162.0</td>\n",
       "      <td>2.5</td>\n",
       "      <td>1055.0</td>\n",
       "      <td>676.0</td>\n",
       "      <td>28</td>\n",
       "      <td>61.89</td>\n",
       "    </tr>\n",
       "    <tr>\n",
       "      <th>2</th>\n",
       "      <td>332.5</td>\n",
       "      <td>142.5</td>\n",
       "      <td>0.0</td>\n",
       "      <td>228.0</td>\n",
       "      <td>0.0</td>\n",
       "      <td>932.0</td>\n",
       "      <td>594.0</td>\n",
       "      <td>270</td>\n",
       "      <td>40.27</td>\n",
       "    </tr>\n",
       "    <tr>\n",
       "      <th>3</th>\n",
       "      <td>332.5</td>\n",
       "      <td>142.5</td>\n",
       "      <td>0.0</td>\n",
       "      <td>228.0</td>\n",
       "      <td>0.0</td>\n",
       "      <td>932.0</td>\n",
       "      <td>594.0</td>\n",
       "      <td>365</td>\n",
       "      <td>41.05</td>\n",
       "    </tr>\n",
       "    <tr>\n",
       "      <th>4</th>\n",
       "      <td>198.6</td>\n",
       "      <td>132.4</td>\n",
       "      <td>0.0</td>\n",
       "      <td>192.0</td>\n",
       "      <td>0.0</td>\n",
       "      <td>978.4</td>\n",
       "      <td>825.5</td>\n",
       "      <td>360</td>\n",
       "      <td>44.30</td>\n",
       "    </tr>\n",
       "  </tbody>\n",
       "</table>\n",
       "</div>"
      ],
      "text/plain": [
       "   Cement  Blast Furnace Slag  Fly Ash  Water  Superplasticizer  \\\n",
       "0   540.0                 0.0      0.0  162.0               2.5   \n",
       "1   540.0                 0.0      0.0  162.0               2.5   \n",
       "2   332.5               142.5      0.0  228.0               0.0   \n",
       "3   332.5               142.5      0.0  228.0               0.0   \n",
       "4   198.6               132.4      0.0  192.0               0.0   \n",
       "\n",
       "   Coarse Aggregate  Fine Aggregate  Age  Strength  \n",
       "0            1040.0           676.0   28     79.99  \n",
       "1            1055.0           676.0   28     61.89  \n",
       "2             932.0           594.0  270     40.27  \n",
       "3             932.0           594.0  365     41.05  \n",
       "4             978.4           825.5  360     44.30  "
      ]
     },
     "execution_count": 2,
     "metadata": {},
     "output_type": "execute_result"
    }
   ],
   "source": [
    "#creating a data frame\n",
    "\n",
    "df = pd.read_csv('https://s3-api.us-geo.objectstorage.softlayer.net/cf-courses-data/CognitiveClass/DL0101EN/labs/data/concrete_data.csv')\n",
    "df.head()"
   ]
  },
  {
   "cell_type": "code",
   "execution_count": 3,
   "id": "09a295fb",
   "metadata": {},
   "outputs": [
    {
     "data": {
      "text/plain": [
       "(1030, 9)"
      ]
     },
     "execution_count": 3,
     "metadata": {},
     "output_type": "execute_result"
    }
   ],
   "source": [
    "df.shape"
   ]
  },
  {
   "cell_type": "code",
   "execution_count": 4,
   "id": "c9ea2a0f",
   "metadata": {},
   "outputs": [
    {
     "data": {
      "text/html": [
       "<div>\n",
       "<style scoped>\n",
       "    .dataframe tbody tr th:only-of-type {\n",
       "        vertical-align: middle;\n",
       "    }\n",
       "\n",
       "    .dataframe tbody tr th {\n",
       "        vertical-align: top;\n",
       "    }\n",
       "\n",
       "    .dataframe thead th {\n",
       "        text-align: right;\n",
       "    }\n",
       "</style>\n",
       "<table border=\"1\" class=\"dataframe\">\n",
       "  <thead>\n",
       "    <tr style=\"text-align: right;\">\n",
       "      <th></th>\n",
       "      <th>Cement</th>\n",
       "      <th>Blast Furnace Slag</th>\n",
       "      <th>Fly Ash</th>\n",
       "      <th>Water</th>\n",
       "      <th>Superplasticizer</th>\n",
       "      <th>Coarse Aggregate</th>\n",
       "      <th>Fine Aggregate</th>\n",
       "      <th>Age</th>\n",
       "      <th>Strength</th>\n",
       "    </tr>\n",
       "  </thead>\n",
       "  <tbody>\n",
       "    <tr>\n",
       "      <th>count</th>\n",
       "      <td>1030.000000</td>\n",
       "      <td>1030.000000</td>\n",
       "      <td>1030.000000</td>\n",
       "      <td>1030.000000</td>\n",
       "      <td>1030.000000</td>\n",
       "      <td>1030.000000</td>\n",
       "      <td>1030.000000</td>\n",
       "      <td>1030.000000</td>\n",
       "      <td>1030.000000</td>\n",
       "    </tr>\n",
       "    <tr>\n",
       "      <th>mean</th>\n",
       "      <td>281.167864</td>\n",
       "      <td>73.895825</td>\n",
       "      <td>54.188350</td>\n",
       "      <td>181.567282</td>\n",
       "      <td>6.204660</td>\n",
       "      <td>972.918932</td>\n",
       "      <td>773.580485</td>\n",
       "      <td>45.662136</td>\n",
       "      <td>35.817961</td>\n",
       "    </tr>\n",
       "    <tr>\n",
       "      <th>std</th>\n",
       "      <td>104.506364</td>\n",
       "      <td>86.279342</td>\n",
       "      <td>63.997004</td>\n",
       "      <td>21.354219</td>\n",
       "      <td>5.973841</td>\n",
       "      <td>77.753954</td>\n",
       "      <td>80.175980</td>\n",
       "      <td>63.169912</td>\n",
       "      <td>16.705742</td>\n",
       "    </tr>\n",
       "    <tr>\n",
       "      <th>min</th>\n",
       "      <td>102.000000</td>\n",
       "      <td>0.000000</td>\n",
       "      <td>0.000000</td>\n",
       "      <td>121.800000</td>\n",
       "      <td>0.000000</td>\n",
       "      <td>801.000000</td>\n",
       "      <td>594.000000</td>\n",
       "      <td>1.000000</td>\n",
       "      <td>2.330000</td>\n",
       "    </tr>\n",
       "    <tr>\n",
       "      <th>25%</th>\n",
       "      <td>192.375000</td>\n",
       "      <td>0.000000</td>\n",
       "      <td>0.000000</td>\n",
       "      <td>164.900000</td>\n",
       "      <td>0.000000</td>\n",
       "      <td>932.000000</td>\n",
       "      <td>730.950000</td>\n",
       "      <td>7.000000</td>\n",
       "      <td>23.710000</td>\n",
       "    </tr>\n",
       "    <tr>\n",
       "      <th>50%</th>\n",
       "      <td>272.900000</td>\n",
       "      <td>22.000000</td>\n",
       "      <td>0.000000</td>\n",
       "      <td>185.000000</td>\n",
       "      <td>6.400000</td>\n",
       "      <td>968.000000</td>\n",
       "      <td>779.500000</td>\n",
       "      <td>28.000000</td>\n",
       "      <td>34.445000</td>\n",
       "    </tr>\n",
       "    <tr>\n",
       "      <th>75%</th>\n",
       "      <td>350.000000</td>\n",
       "      <td>142.950000</td>\n",
       "      <td>118.300000</td>\n",
       "      <td>192.000000</td>\n",
       "      <td>10.200000</td>\n",
       "      <td>1029.400000</td>\n",
       "      <td>824.000000</td>\n",
       "      <td>56.000000</td>\n",
       "      <td>46.135000</td>\n",
       "    </tr>\n",
       "    <tr>\n",
       "      <th>max</th>\n",
       "      <td>540.000000</td>\n",
       "      <td>359.400000</td>\n",
       "      <td>200.100000</td>\n",
       "      <td>247.000000</td>\n",
       "      <td>32.200000</td>\n",
       "      <td>1145.000000</td>\n",
       "      <td>992.600000</td>\n",
       "      <td>365.000000</td>\n",
       "      <td>82.600000</td>\n",
       "    </tr>\n",
       "  </tbody>\n",
       "</table>\n",
       "</div>"
      ],
      "text/plain": [
       "            Cement  Blast Furnace Slag      Fly Ash        Water  \\\n",
       "count  1030.000000         1030.000000  1030.000000  1030.000000   \n",
       "mean    281.167864           73.895825    54.188350   181.567282   \n",
       "std     104.506364           86.279342    63.997004    21.354219   \n",
       "min     102.000000            0.000000     0.000000   121.800000   \n",
       "25%     192.375000            0.000000     0.000000   164.900000   \n",
       "50%     272.900000           22.000000     0.000000   185.000000   \n",
       "75%     350.000000          142.950000   118.300000   192.000000   \n",
       "max     540.000000          359.400000   200.100000   247.000000   \n",
       "\n",
       "       Superplasticizer  Coarse Aggregate  Fine Aggregate          Age  \\\n",
       "count       1030.000000       1030.000000     1030.000000  1030.000000   \n",
       "mean           6.204660        972.918932      773.580485    45.662136   \n",
       "std            5.973841         77.753954       80.175980    63.169912   \n",
       "min            0.000000        801.000000      594.000000     1.000000   \n",
       "25%            0.000000        932.000000      730.950000     7.000000   \n",
       "50%            6.400000        968.000000      779.500000    28.000000   \n",
       "75%           10.200000       1029.400000      824.000000    56.000000   \n",
       "max           32.200000       1145.000000      992.600000   365.000000   \n",
       "\n",
       "          Strength  \n",
       "count  1030.000000  \n",
       "mean     35.817961  \n",
       "std      16.705742  \n",
       "min       2.330000  \n",
       "25%      23.710000  \n",
       "50%      34.445000  \n",
       "75%      46.135000  \n",
       "max      82.600000  "
      ]
     },
     "execution_count": 4,
     "metadata": {},
     "output_type": "execute_result"
    }
   ],
   "source": [
    "df.describe()"
   ]
  },
  {
   "cell_type": "code",
   "execution_count": 5,
   "id": "80dd7ca5",
   "metadata": {},
   "outputs": [
    {
     "data": {
      "text/plain": [
       "Cement                0\n",
       "Blast Furnace Slag    0\n",
       "Fly Ash               0\n",
       "Water                 0\n",
       "Superplasticizer      0\n",
       "Coarse Aggregate      0\n",
       "Fine Aggregate        0\n",
       "Age                   0\n",
       "Strength              0\n",
       "dtype: int64"
      ]
     },
     "execution_count": 5,
     "metadata": {},
     "output_type": "execute_result"
    }
   ],
   "source": [
    "df.isnull().sum()"
   ]
  },
  {
   "cell_type": "code",
   "execution_count": 6,
   "id": "3d5147c8",
   "metadata": {},
   "outputs": [
    {
     "data": {
      "text/html": [
       "<div>\n",
       "<style scoped>\n",
       "    .dataframe tbody tr th:only-of-type {\n",
       "        vertical-align: middle;\n",
       "    }\n",
       "\n",
       "    .dataframe tbody tr th {\n",
       "        vertical-align: top;\n",
       "    }\n",
       "\n",
       "    .dataframe thead th {\n",
       "        text-align: right;\n",
       "    }\n",
       "</style>\n",
       "<table border=\"1\" class=\"dataframe\">\n",
       "  <thead>\n",
       "    <tr style=\"text-align: right;\">\n",
       "      <th></th>\n",
       "      <th>Cement</th>\n",
       "      <th>Blast Furnace Slag</th>\n",
       "      <th>Fly Ash</th>\n",
       "      <th>Water</th>\n",
       "      <th>Superplasticizer</th>\n",
       "      <th>Coarse Aggregate</th>\n",
       "      <th>Fine Aggregate</th>\n",
       "      <th>Age</th>\n",
       "    </tr>\n",
       "  </thead>\n",
       "  <tbody>\n",
       "    <tr>\n",
       "      <th>0</th>\n",
       "      <td>540.0</td>\n",
       "      <td>0.0</td>\n",
       "      <td>0.0</td>\n",
       "      <td>162.0</td>\n",
       "      <td>2.5</td>\n",
       "      <td>1040.0</td>\n",
       "      <td>676.0</td>\n",
       "      <td>28</td>\n",
       "    </tr>\n",
       "    <tr>\n",
       "      <th>1</th>\n",
       "      <td>540.0</td>\n",
       "      <td>0.0</td>\n",
       "      <td>0.0</td>\n",
       "      <td>162.0</td>\n",
       "      <td>2.5</td>\n",
       "      <td>1055.0</td>\n",
       "      <td>676.0</td>\n",
       "      <td>28</td>\n",
       "    </tr>\n",
       "    <tr>\n",
       "      <th>2</th>\n",
       "      <td>332.5</td>\n",
       "      <td>142.5</td>\n",
       "      <td>0.0</td>\n",
       "      <td>228.0</td>\n",
       "      <td>0.0</td>\n",
       "      <td>932.0</td>\n",
       "      <td>594.0</td>\n",
       "      <td>270</td>\n",
       "    </tr>\n",
       "    <tr>\n",
       "      <th>3</th>\n",
       "      <td>332.5</td>\n",
       "      <td>142.5</td>\n",
       "      <td>0.0</td>\n",
       "      <td>228.0</td>\n",
       "      <td>0.0</td>\n",
       "      <td>932.0</td>\n",
       "      <td>594.0</td>\n",
       "      <td>365</td>\n",
       "    </tr>\n",
       "    <tr>\n",
       "      <th>4</th>\n",
       "      <td>198.6</td>\n",
       "      <td>132.4</td>\n",
       "      <td>0.0</td>\n",
       "      <td>192.0</td>\n",
       "      <td>0.0</td>\n",
       "      <td>978.4</td>\n",
       "      <td>825.5</td>\n",
       "      <td>360</td>\n",
       "    </tr>\n",
       "  </tbody>\n",
       "</table>\n",
       "</div>"
      ],
      "text/plain": [
       "   Cement  Blast Furnace Slag  Fly Ash  Water  Superplasticizer  \\\n",
       "0   540.0                 0.0      0.0  162.0               2.5   \n",
       "1   540.0                 0.0      0.0  162.0               2.5   \n",
       "2   332.5               142.5      0.0  228.0               0.0   \n",
       "3   332.5               142.5      0.0  228.0               0.0   \n",
       "4   198.6               132.4      0.0  192.0               0.0   \n",
       "\n",
       "   Coarse Aggregate  Fine Aggregate  Age  \n",
       "0            1040.0           676.0   28  \n",
       "1            1055.0           676.0   28  \n",
       "2             932.0           594.0  270  \n",
       "3             932.0           594.0  365  \n",
       "4             978.4           825.5  360  "
      ]
     },
     "execution_count": 6,
     "metadata": {},
     "output_type": "execute_result"
    }
   ],
   "source": [
    "df_columns = df.columns\n",
    "\n",
    "predictors = df[df_columns[df_columns != 'Strength']] # all columns except Strength\n",
    "predictors.head()"
   ]
  },
  {
   "cell_type": "code",
   "execution_count": 7,
   "id": "e87fb14e",
   "metadata": {},
   "outputs": [
    {
     "data": {
      "text/plain": [
       "0    79.99\n",
       "1    61.89\n",
       "2    40.27\n",
       "3    41.05\n",
       "4    44.30\n",
       "Name: Strength, dtype: float64"
      ]
     },
     "execution_count": 7,
     "metadata": {},
     "output_type": "execute_result"
    }
   ],
   "source": [
    "target = df['Strength'] \n",
    "target.head()"
   ]
  },
  {
   "cell_type": "code",
   "execution_count": 8,
   "id": "6be26dae",
   "metadata": {},
   "outputs": [],
   "source": [
    "from tensorflow import keras"
   ]
  },
  {
   "cell_type": "code",
   "execution_count": 9,
   "id": "a20cee29",
   "metadata": {},
   "outputs": [],
   "source": [
    "from keras.models import Sequential\n",
    "from keras.layers import Dense"
   ]
  },
  {
   "cell_type": "code",
   "execution_count": 10,
   "id": "e3e29615",
   "metadata": {},
   "outputs": [
    {
     "data": {
      "text/plain": [
       "8"
      ]
     },
     "execution_count": 10,
     "metadata": {},
     "output_type": "execute_result"
    }
   ],
   "source": [
    "n_cols = predictors.shape[1]\n",
    "n_cols"
   ]
  },
  {
   "cell_type": "code",
   "execution_count": 11,
   "id": "0476e0b6",
   "metadata": {},
   "outputs": [],
   "source": [
    "from sklearn.model_selection import train_test_split\n",
    "\n",
    "X_train, X_test, y_train, y_test = train_test_split(predictors, target, test_size=0.3, random_state=42)"
   ]
  },
  {
   "cell_type": "code",
   "execution_count": 12,
   "id": "4bec5632",
   "metadata": {},
   "outputs": [
    {
     "data": {
      "text/plain": [
       "(721, 8)"
      ]
     },
     "execution_count": 12,
     "metadata": {},
     "output_type": "execute_result"
    }
   ],
   "source": [
    "X_train.shape"
   ]
  },
  {
   "cell_type": "code",
   "execution_count": 13,
   "id": "8b23851e",
   "metadata": {},
   "outputs": [],
   "source": [
    "def regression_model():\n",
    "    \n",
    "    model = Sequential()\n",
    "    model.add(Dense(10, activation='relu', input_shape=(n_cols,)))\n",
    "    model.add(Dense(1))\n",
    "    \n",
    "    model.compile(optimizer='adam', loss='mean_squared_error')\n",
    "    return model"
   ]
  },
  {
   "cell_type": "code",
   "execution_count": 14,
   "id": "80a6b095",
   "metadata": {},
   "outputs": [],
   "source": [
    "model = regression_model()"
   ]
  },
  {
   "cell_type": "code",
   "execution_count": 15,
   "id": "381c0d8c",
   "metadata": {},
   "outputs": [
    {
     "name": "stdout",
     "output_type": "stream",
     "text": [
      "Epoch 1/50\n",
      "23/23 - 0s - loss: 74256.0469 - 357ms/epoch - 16ms/step\n",
      "Epoch 2/50\n",
      "23/23 - 0s - loss: 8211.6328 - 15ms/epoch - 650us/step\n",
      "Epoch 3/50\n",
      "23/23 - 0s - loss: 3302.6582 - 14ms/epoch - 609us/step\n",
      "Epoch 4/50\n",
      "23/23 - 0s - loss: 2781.0271 - 13ms/epoch - 565us/step\n",
      "Epoch 5/50\n",
      "23/23 - 0s - loss: 2379.0784 - 14ms/epoch - 609us/step\n",
      "Epoch 6/50\n",
      "23/23 - 0s - loss: 2074.6106 - 14ms/epoch - 609us/step\n",
      "Epoch 7/50\n",
      "23/23 - 0s - loss: 1812.7570 - 14ms/epoch - 609us/step\n",
      "Epoch 8/50\n",
      "23/23 - 0s - loss: 1572.5961 - 13ms/epoch - 565us/step\n",
      "Epoch 9/50\n",
      "23/23 - 0s - loss: 1375.7574 - 13ms/epoch - 565us/step\n",
      "Epoch 10/50\n",
      "23/23 - 0s - loss: 1199.4495 - 14ms/epoch - 609us/step\n",
      "Epoch 11/50\n",
      "23/23 - 0s - loss: 1053.5367 - 13ms/epoch - 565us/step\n",
      "Epoch 12/50\n",
      "23/23 - 0s - loss: 929.6763 - 14ms/epoch - 609us/step\n",
      "Epoch 13/50\n",
      "23/23 - 0s - loss: 822.4527 - 14ms/epoch - 609us/step\n",
      "Epoch 14/50\n",
      "23/23 - 0s - loss: 731.9863 - 13ms/epoch - 565us/step\n",
      "Epoch 15/50\n",
      "23/23 - 0s - loss: 654.4168 - 13ms/epoch - 565us/step\n",
      "Epoch 16/50\n",
      "23/23 - 0s - loss: 588.7924 - 13ms/epoch - 565us/step\n",
      "Epoch 17/50\n",
      "23/23 - 0s - loss: 525.2758 - 15ms/epoch - 652us/step\n",
      "Epoch 18/50\n",
      "23/23 - 0s - loss: 462.6020 - 13ms/epoch - 565us/step\n",
      "Epoch 19/50\n",
      "23/23 - 0s - loss: 402.7456 - 14ms/epoch - 609us/step\n",
      "Epoch 20/50\n",
      "23/23 - 0s - loss: 350.0799 - 14ms/epoch - 609us/step\n",
      "Epoch 21/50\n",
      "23/23 - 0s - loss: 303.6379 - 14ms/epoch - 609us/step\n",
      "Epoch 22/50\n",
      "23/23 - 0s - loss: 263.2115 - 14ms/epoch - 609us/step\n",
      "Epoch 23/50\n",
      "23/23 - 0s - loss: 231.4197 - 12ms/epoch - 522us/step\n",
      "Epoch 24/50\n",
      "23/23 - 0s - loss: 207.8709 - 15ms/epoch - 652us/step\n",
      "Epoch 25/50\n",
      "23/23 - 0s - loss: 192.6595 - 14ms/epoch - 609us/step\n",
      "Epoch 26/50\n",
      "23/23 - 0s - loss: 174.1782 - 13ms/epoch - 565us/step\n",
      "Epoch 27/50\n",
      "23/23 - 0s - loss: 161.3799 - 13ms/epoch - 565us/step\n",
      "Epoch 28/50\n",
      "23/23 - 0s - loss: 150.6698 - 14ms/epoch - 609us/step\n",
      "Epoch 29/50\n",
      "23/23 - 0s - loss: 142.8721 - 14ms/epoch - 609us/step\n",
      "Epoch 30/50\n",
      "23/23 - 0s - loss: 136.6630 - 13ms/epoch - 565us/step\n",
      "Epoch 31/50\n",
      "23/23 - 0s - loss: 132.3903 - 13ms/epoch - 565us/step\n",
      "Epoch 32/50\n",
      "23/23 - 0s - loss: 127.5153 - 12ms/epoch - 522us/step\n",
      "Epoch 33/50\n",
      "23/23 - 0s - loss: 123.6738 - 13ms/epoch - 565us/step\n",
      "Epoch 34/50\n",
      "23/23 - 0s - loss: 123.0509 - 14ms/epoch - 609us/step\n",
      "Epoch 35/50\n",
      "23/23 - 0s - loss: 119.4091 - 13ms/epoch - 565us/step\n",
      "Epoch 36/50\n",
      "23/23 - 0s - loss: 119.0965 - 16ms/epoch - 696us/step\n",
      "Epoch 37/50\n",
      "23/23 - 0s - loss: 117.1244 - 13ms/epoch - 565us/step\n",
      "Epoch 38/50\n",
      "23/23 - 0s - loss: 115.9101 - 13ms/epoch - 565us/step\n",
      "Epoch 39/50\n",
      "23/23 - 0s - loss: 115.2787 - 14ms/epoch - 609us/step\n",
      "Epoch 40/50\n",
      "23/23 - 0s - loss: 117.6021 - 13ms/epoch - 565us/step\n",
      "Epoch 41/50\n",
      "23/23 - 0s - loss: 113.3927 - 13ms/epoch - 565us/step\n",
      "Epoch 42/50\n",
      "23/23 - 0s - loss: 112.3962 - 14ms/epoch - 609us/step\n",
      "Epoch 43/50\n",
      "23/23 - 0s - loss: 113.0078 - 13ms/epoch - 565us/step\n",
      "Epoch 44/50\n",
      "23/23 - 0s - loss: 112.4696 - 14ms/epoch - 609us/step\n",
      "Epoch 45/50\n",
      "23/23 - 0s - loss: 112.3895 - 13ms/epoch - 565us/step\n",
      "Epoch 46/50\n",
      "23/23 - 0s - loss: 112.1169 - 13ms/epoch - 565us/step\n",
      "Epoch 47/50\n",
      "23/23 - 0s - loss: 112.4181 - 12ms/epoch - 522us/step\n",
      "Epoch 48/50\n",
      "23/23 - 0s - loss: 112.5431 - 13ms/epoch - 565us/step\n",
      "Epoch 49/50\n",
      "23/23 - 0s - loss: 112.1078 - 14ms/epoch - 609us/step\n",
      "Epoch 50/50\n",
      "23/23 - 0s - loss: 110.3951 - 13ms/epoch - 565us/step\n"
     ]
    },
    {
     "data": {
      "text/plain": [
       "<keras.src.callbacks.History at 0x2a70e76f8e0>"
      ]
     },
     "execution_count": 15,
     "metadata": {},
     "output_type": "execute_result"
    }
   ],
   "source": [
    "model.fit(X_train, y_train, epochs=50, verbose=2)"
   ]
  },
  {
   "cell_type": "code",
   "execution_count": 16,
   "id": "80facfec",
   "metadata": {},
   "outputs": [
    {
     "name": "stdout",
     "output_type": "stream",
     "text": [
      "10/10 [==============================] - 0s 889us/step - loss: 108.7137\n"
     ]
    },
    {
     "data": {
      "text/plain": [
       "108.71372985839844"
      ]
     },
     "execution_count": 16,
     "metadata": {},
     "output_type": "execute_result"
    }
   ],
   "source": [
    "loss = model.evaluate(X_test, y_test)\n",
    "loss"
   ]
  },
  {
   "cell_type": "code",
   "execution_count": 17,
   "id": "0620bcf4",
   "metadata": {},
   "outputs": [
    {
     "name": "stdout",
     "output_type": "stream",
     "text": [
      "10/10 [==============================] - 0s 889us/step\n"
     ]
    }
   ],
   "source": [
    "from sklearn.metrics import mean_squared_error\n",
    "\n",
    "y_pred = model.predict(X_test)\n",
    "\n",
    "# Compute the Mean Squared Error (MSE)\n",
    "mse = mean_squared_error(y_test, y_pred)"
   ]
  },
  {
   "cell_type": "code",
   "execution_count": 20,
   "id": "33889848",
   "metadata": {},
   "outputs": [
    {
     "name": "stdout",
     "output_type": "stream",
     "text": [
      "10/10 [==============================] - 0s 667us/step\n",
      "10/10 [==============================] - 0s 667us/step\n",
      "10/10 [==============================] - 0s 889us/step\n",
      "10/10 [==============================] - 0s 667us/step\n",
      "10/10 [==============================] - 0s 778us/step\n",
      "10/10 [==============================] - 0s 667us/step\n",
      "10/10 [==============================] - 0s 778us/step\n",
      "10/10 [==============================] - 0s 1ms/step\n",
      "10/10 [==============================] - 0s 778us/step\n",
      "10/10 [==============================] - 0s 778us/step\n",
      "10/10 [==============================] - 0s 555us/step\n",
      "10/10 [==============================] - 0s 665us/step\n",
      "10/10 [==============================] - 0s 556us/step\n",
      "10/10 [==============================] - 0s 667us/step\n",
      "10/10 [==============================] - 0s 555us/step\n",
      "10/10 [==============================] - 0s 1ms/step\n",
      "10/10 [==============================] - 0s 555us/step\n",
      "10/10 [==============================] - 0s 724us/step\n",
      "10/10 [==============================] - 0s 778us/step\n",
      "10/10 [==============================] - 0s 889us/step\n",
      "10/10 [==============================] - 0s 671us/step\n",
      "10/10 [==============================] - 0s 666us/step\n",
      "10/10 [==============================] - 0s 889us/step\n",
      "10/10 [==============================] - 0s 778us/step\n",
      "10/10 [==============================] - 0s 889us/step\n",
      "10/10 [==============================] - 0s 667us/step\n",
      "10/10 [==============================] - 0s 889us/step\n",
      "10/10 [==============================] - 0s 667us/step\n",
      "10/10 [==============================] - 0s 667us/step\n",
      "10/10 [==============================] - 0s 1ms/step\n",
      "10/10 [==============================] - 0s 2ms/step\n",
      "10/10 [==============================] - 0s 668us/step\n",
      "10/10 [==============================] - 0s 1ms/step\n",
      "10/10 [==============================] - 0s 667us/step\n",
      "10/10 [==============================] - 0s 779us/step\n",
      "10/10 [==============================] - 0s 667us/step\n",
      "10/10 [==============================] - 0s 889us/step\n",
      "10/10 [==============================] - 0s 778us/step\n",
      "10/10 [==============================] - 0s 1ms/step\n",
      "10/10 [==============================] - 0s 778us/step\n",
      "10/10 [==============================] - 0s 667us/step\n",
      "10/10 [==============================] - 0s 667us/step\n",
      "10/10 [==============================] - 0s 783us/step\n",
      "10/10 [==============================] - 0s 1ms/step\n",
      "10/10 [==============================] - 0s 773us/step\n",
      "10/10 [==============================] - 0s 1000us/step\n",
      "10/10 [==============================] - 0s 1ms/step\n",
      "10/10 [==============================] - 0s 1ms/step\n",
      "10/10 [==============================] - 0s 889us/step\n",
      "10/10 [==============================] - 0s 889us/step\n"
     ]
    },
    {
     "data": {
      "text/plain": [
       "[260.7371883293311,\n",
       " 851.7482000358251,\n",
       " 314.4974912741038,\n",
       " 99.3152876719066,\n",
       " 360.42245595247954,\n",
       " 802.7574417472468,\n",
       " 150.01189640504043,\n",
       " 205.153195014166,\n",
       " 381.1456578674315,\n",
       " 179.41243121589505,\n",
       " 93.44341966626199,\n",
       " 940.1455509174814,\n",
       " 102.9178218395128,\n",
       " 224.78354400173077,\n",
       " 484.4356925304414,\n",
       " 490.5183894519013,\n",
       " 112.98324189698303,\n",
       " 208.23394067681193,\n",
       " 166.80235366243102,\n",
       " 638.2823628182081,\n",
       " 454.0514966026251,\n",
       " 113.634760345829,\n",
       " 115.74140189681205,\n",
       " 113.16729874152615,\n",
       " 129.91108226410051,\n",
       " 1515.328786259208,\n",
       " 255.41195904695803,\n",
       " 512.3932866906093,\n",
       " 708.569043567449,\n",
       " 470.96665021733753,\n",
       " 854.5642403379665,\n",
       " 101.09056552994647,\n",
       " 624.1794180170427,\n",
       " 1460.5273196738299,\n",
       " 92.70426650136511,\n",
       " 109.96319435881534,\n",
       " 156.63341418378116,\n",
       " 107.24287940169903,\n",
       " 127.38676298513617,\n",
       " 126.39993715168423,\n",
       " 879.3284144513565,\n",
       " 113.02928851743498,\n",
       " 145.84995408845353,\n",
       " 168.4785481073226,\n",
       " 773.1525338637043,\n",
       " 124.41196583966276,\n",
       " 327.2106613747201,\n",
       " 206.6875746722108,\n",
       " 142.1981603211062,\n",
       " 99.376608418307]"
      ]
     },
     "execution_count": 20,
     "metadata": {},
     "output_type": "execute_result"
    }
   ],
   "source": [
    "mse_list = []\n",
    "\n",
    "# Repeat steps 1-3, 50 times\n",
    "for _ in range(50):\n",
    "    # Step 1: Randomly split the data into training set and test set\n",
    "    X_train, X_test, y_train, y_test = train_test_split(predictors, target, test_size=0.3, random_state=42)\n",
    "    \n",
    "    # Step 2: Create and train the model on the training data\n",
    "    model = Sequential()\n",
    "    model.add(Dense(10, activation='relu', input_shape=(n_cols,)))\n",
    "    model.add(Dense(1))\n",
    "    model.compile(optimizer='adam', loss='mean_squared_error')\n",
    "    model.fit(X_train, y_train, epochs=50, verbose=0)  # Training with 50 epochs\n",
    "    \n",
    "    # Step 3: Evaluate the model on the test data and compute MSE\n",
    "    y_pred = model.predict(X_test)\n",
    "    mse = mean_squared_error(y_test, y_pred)\n",
    "    \n",
    "    # Append the MSE to the list\n",
    "    mse_list.append(mse)\n",
    "\n",
    "mse_list"
   ]
  },
  {
   "cell_type": "code",
   "execution_count": 21,
   "id": "bb3261fd",
   "metadata": {},
   "outputs": [],
   "source": [
    "# mean and standard deviation of mean squared error list\n",
    "mse_mean = np.mean(mse_list)\n",
    "mse_std = np.std(mse_list)"
   ]
  },
  {
   "cell_type": "code",
   "execution_count": 22,
   "id": "4d109aa4",
   "metadata": {},
   "outputs": [
    {
     "data": {
      "text/plain": [
       "363.9467807280638"
      ]
     },
     "execution_count": 22,
     "metadata": {},
     "output_type": "execute_result"
    }
   ],
   "source": [
    "mse_mean"
   ]
  },
  {
   "cell_type": "code",
   "execution_count": 23,
   "id": "125d96c0",
   "metadata": {},
   "outputs": [
    {
     "data": {
      "text/plain": [
       "340.7958290304001"
      ]
     },
     "execution_count": 23,
     "metadata": {},
     "output_type": "execute_result"
    }
   ],
   "source": [
    "mse_std"
   ]
  }
 ],
 "metadata": {
  "kernelspec": {
   "display_name": "Python 3 (ipykernel)",
   "language": "python",
   "name": "python3"
  },
  "language_info": {
   "codemirror_mode": {
    "name": "ipython",
    "version": 3
   },
   "file_extension": ".py",
   "mimetype": "text/x-python",
   "name": "python",
   "nbconvert_exporter": "python",
   "pygments_lexer": "ipython3",
   "version": "3.9.13"
  }
 },
 "nbformat": 4,
 "nbformat_minor": 5
}
